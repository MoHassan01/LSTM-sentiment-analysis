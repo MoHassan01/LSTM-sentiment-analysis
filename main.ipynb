{
 "cells": [
  {
   "cell_type": "code",
   "execution_count": 78,
   "metadata": {},
   "outputs": [],
   "source": [
    "import pandas as pd\n",
    "import numpy as np\n",
    "import warnings\n",
    "warnings.filterwarnings('ignore')\n",
    "\n",
    "import tensorflow as tf\n",
    "from tensorflow.keras.utils import to_categorical\n",
    "from sklearn.preprocessing import LabelEncoder\n",
    "from tensorflow.keras.preprocessing.text import Tokenizer\n",
    "from tensorflow.keras.preprocessing.sequence import pad_sequences\n",
    "from tensorflow.keras.models import Sequential\n",
    "from tensorflow.keras import models, layers, utils\n",
    "from tensorflow.keras.layers import LSTM, Dropout, Dense, Embedding\n",
    "from sklearn.metrics import classification_report, confusion_matrix, accuracy_score\n",
    "from keras.callbacks import ModelCheckpoint, ReduceLROnPlateau\n",
    "import pickle\n",
    "from keras.models import load_model\n",
    "import seaborn as sns\n",
    "import matplotlib.pyplot as plt\n",
    "# import wget\n",
    "import contractions\n",
    "import nltk\n",
    "from nltk.corpus import stopwords\n",
    "from nltk.stem import PorterStemmer\n",
    "from nltk.tokenize import word_tokenize\n",
    "import re\n",
    "from nltk.stem import WordNetLemmatizer\n",
    "from tqdm import tqdm\n",
    "from keras.models import load_model"
   ]
  },
  {
   "cell_type": "code",
   "execution_count": 66,
   "metadata": {},
   "outputs": [],
   "source": [
    "test_df = {'Label': [], 'Text': []}\n",
    "with open('test.ft.txt', encoding='utf-8') as test_file:\n",
    "    for line in test_file:\n",
    "        test_df['Label'].append(line.rstrip()[9])\n",
    "        test_df['Text'].append(line.rstrip()[10:])\n",
    "test_df = pd.DataFrame(test_df)\n",
    "test_df.to_csv('test.csv', index=False, encoding='utf-8')\n"
   ]
  },
  {
   "cell_type": "code",
   "execution_count": 67,
   "metadata": {},
   "outputs": [],
   "source": [
    "test = pd.read_csv('test.csv')"
   ]
  },
  {
   "cell_type": "code",
   "execution_count": 68,
   "metadata": {},
   "outputs": [
    {
     "data": {
      "text/html": [
       "<div>\n",
       "<style scoped>\n",
       "    .dataframe tbody tr th:only-of-type {\n",
       "        vertical-align: middle;\n",
       "    }\n",
       "\n",
       "    .dataframe tbody tr th {\n",
       "        vertical-align: top;\n",
       "    }\n",
       "\n",
       "    .dataframe thead th {\n",
       "        text-align: right;\n",
       "    }\n",
       "</style>\n",
       "<table border=\"1\" class=\"dataframe\">\n",
       "  <thead>\n",
       "    <tr style=\"text-align: right;\">\n",
       "      <th></th>\n",
       "      <th>Label</th>\n",
       "      <th>Text</th>\n",
       "    </tr>\n",
       "  </thead>\n",
       "  <tbody>\n",
       "    <tr>\n",
       "      <th>0</th>\n",
       "      <td>2</td>\n",
       "      <td>Great CD: My lovely Pat has one of the GREAT ...</td>\n",
       "    </tr>\n",
       "    <tr>\n",
       "      <th>1</th>\n",
       "      <td>2</td>\n",
       "      <td>One of the best game music soundtracks - for ...</td>\n",
       "    </tr>\n",
       "    <tr>\n",
       "      <th>2</th>\n",
       "      <td>1</td>\n",
       "      <td>Batteries died within a year ...: I bought th...</td>\n",
       "    </tr>\n",
       "    <tr>\n",
       "      <th>3</th>\n",
       "      <td>2</td>\n",
       "      <td>works fine, but Maha Energy is better: Check ...</td>\n",
       "    </tr>\n",
       "    <tr>\n",
       "      <th>4</th>\n",
       "      <td>2</td>\n",
       "      <td>Great for the non-audiophile: Reviewed quite ...</td>\n",
       "    </tr>\n",
       "  </tbody>\n",
       "</table>\n",
       "</div>"
      ],
      "text/plain": [
       "   Label                                               Text\n",
       "0      2   Great CD: My lovely Pat has one of the GREAT ...\n",
       "1      2   One of the best game music soundtracks - for ...\n",
       "2      1   Batteries died within a year ...: I bought th...\n",
       "3      2   works fine, but Maha Energy is better: Check ...\n",
       "4      2   Great for the non-audiophile: Reviewed quite ..."
      ]
     },
     "execution_count": 68,
     "metadata": {},
     "output_type": "execute_result"
    }
   ],
   "source": [
    "test.head()"
   ]
  },
  {
   "cell_type": "code",
   "execution_count": 71,
   "metadata": {},
   "outputs": [
    {
     "data": {
      "text/plain": [
       "400000"
      ]
     },
     "execution_count": 71,
     "metadata": {},
     "output_type": "execute_result"
    }
   ],
   "source": [
    "len(test)"
   ]
  },
  {
   "cell_type": "code",
   "execution_count": 70,
   "metadata": {},
   "outputs": [
    {
     "data": {
      "text/plain": [
       "Label\n",
       "2    200000\n",
       "1    200000\n",
       "Name: count, dtype: int64"
      ]
     },
     "execution_count": 70,
     "metadata": {},
     "output_type": "execute_result"
    }
   ],
   "source": [
    "test['Label'].value_counts()"
   ]
  },
  {
   "cell_type": "code",
   "execution_count": 73,
   "metadata": {},
   "outputs": [],
   "source": [
    "train_df = {'Label': [], 'Text': []}\n",
    "with open('train.ft.txt', encoding='utf-8') as train_file:\n",
    "    for line in train_file:\n",
    "        train_df['Label'].append(line.rstrip()[9])\n",
    "        train_df['Text'].append(line.rstrip()[10:])\n",
    "train_df = pd.DataFrame(train_df)\n",
    "train_df.to_csv('train.csv', index=False, encoding='utf-8')"
   ]
  },
  {
   "cell_type": "code",
   "execution_count": 75,
   "metadata": {},
   "outputs": [],
   "source": [
    "train = pd.read_csv('train.csv')"
   ]
  },
  {
   "cell_type": "code",
   "execution_count": 76,
   "metadata": {},
   "outputs": [
    {
     "data": {
      "text/plain": [
       "3600000"
      ]
     },
     "execution_count": 76,
     "metadata": {},
     "output_type": "execute_result"
    }
   ],
   "source": [
    "len(train)"
   ]
  },
  {
   "cell_type": "code",
   "execution_count": 77,
   "metadata": {},
   "outputs": [
    {
     "data": {
      "text/html": [
       "<div>\n",
       "<style scoped>\n",
       "    .dataframe tbody tr th:only-of-type {\n",
       "        vertical-align: middle;\n",
       "    }\n",
       "\n",
       "    .dataframe tbody tr th {\n",
       "        vertical-align: top;\n",
       "    }\n",
       "\n",
       "    .dataframe thead th {\n",
       "        text-align: right;\n",
       "    }\n",
       "</style>\n",
       "<table border=\"1\" class=\"dataframe\">\n",
       "  <thead>\n",
       "    <tr style=\"text-align: right;\">\n",
       "      <th></th>\n",
       "      <th>Label</th>\n",
       "      <th>Text</th>\n",
       "    </tr>\n",
       "  </thead>\n",
       "  <tbody>\n",
       "    <tr>\n",
       "      <th>0</th>\n",
       "      <td>2</td>\n",
       "      <td>Stuning even for the non-gamer: This sound tr...</td>\n",
       "    </tr>\n",
       "    <tr>\n",
       "      <th>1</th>\n",
       "      <td>2</td>\n",
       "      <td>The best soundtrack ever to anything.: I'm re...</td>\n",
       "    </tr>\n",
       "    <tr>\n",
       "      <th>2</th>\n",
       "      <td>2</td>\n",
       "      <td>Amazing!: This soundtrack is my favorite musi...</td>\n",
       "    </tr>\n",
       "    <tr>\n",
       "      <th>3</th>\n",
       "      <td>2</td>\n",
       "      <td>Excellent Soundtrack: I truly like this sound...</td>\n",
       "    </tr>\n",
       "    <tr>\n",
       "      <th>4</th>\n",
       "      <td>2</td>\n",
       "      <td>Remember, Pull Your Jaw Off The Floor After H...</td>\n",
       "    </tr>\n",
       "  </tbody>\n",
       "</table>\n",
       "</div>"
      ],
      "text/plain": [
       "   Label                                               Text\n",
       "0      2   Stuning even for the non-gamer: This sound tr...\n",
       "1      2   The best soundtrack ever to anything.: I'm re...\n",
       "2      2   Amazing!: This soundtrack is my favorite musi...\n",
       "3      2   Excellent Soundtrack: I truly like this sound...\n",
       "4      2   Remember, Pull Your Jaw Off The Floor After H..."
      ]
     },
     "execution_count": 77,
     "metadata": {},
     "output_type": "execute_result"
    }
   ],
   "source": [
    "train.head()"
   ]
  },
  {
   "cell_type": "code",
   "execution_count": 78,
   "metadata": {},
   "outputs": [
    {
     "data": {
      "text/plain": [
       "Label\n",
       "2    1800000\n",
       "1    1800000\n",
       "Name: count, dtype: int64"
      ]
     },
     "execution_count": 78,
     "metadata": {},
     "output_type": "execute_result"
    }
   ],
   "source": [
    "train['Label'].value_counts()"
   ]
  },
  {
   "cell_type": "code",
   "execution_count": null,
   "metadata": {},
   "outputs": [],
   "source": []
  },
  {
   "cell_type": "code",
   "execution_count": 21,
   "metadata": {},
   "outputs": [
    {
     "name": "stderr",
     "output_type": "stream",
     "text": [
      "Downloading...\n",
      "From (original): https://drive.google.com/uc?id=1tip0zqRVtNUf-kT-CIfEvUBB52l-hzBW\n",
      "From (redirected): https://drive.google.com/uc?id=1tip0zqRVtNUf-kT-CIfEvUBB52l-hzBW&confirm=t&uuid=3125d1a9-7400-41bd-8747-ea6d3ef696e5\n",
      "To: e:\\10k\\DNN\\LSTM-sentiment-analysis\\test-2.csv\n",
      "100%|██████████| 176M/176M [00:47<00:00, 3.69MB/s] \n"
     ]
    },
    {
     "data": {
      "text/plain": [
       "'test-2.csv'"
      ]
     },
     "execution_count": 21,
     "metadata": {},
     "output_type": "execute_result"
    }
   ],
   "source": [
    "# import gdown\n",
    "\n",
    "# # Replace 'FILE_ID' with your actual file ID\n",
    "# file_id = '1tip0zqRVtNUf-kT-CIfEvUBB52l-hzBW'\n",
    "# url = f'https://drive.google.com/uc?id={file_id}'\n",
    "# output = 'test-2.csv'  # Desired local filename\n",
    "\n",
    "# # Download the file\n",
    "# gdown.download(url, output, quiet=False)\n"
   ]
  },
  {
   "cell_type": "code",
   "execution_count": 3,
   "metadata": {},
   "outputs": [],
   "source": [
    "train = pd.read_csv('train.csv')\n",
    "test = pd.read_csv('test.csv')"
   ]
  },
  {
   "cell_type": "code",
   "execution_count": 8,
   "metadata": {},
   "outputs": [],
   "source": [
    "# Text preprocessing\n",
    "def text_preprocess(text):\n",
    "    text = contractions.fix(text)\n",
    "    text = re.sub('[^a-zA-Z\\s]', '', text)\n",
    "    text = text.lower()\n",
    "    stop_words = stopwords.words('english')\n",
    "    stop_words.remove('not')\n",
    "    text = text.split()\n",
    "    lemmatizer = WordNetLemmatizer()\n",
    "    text = ' '.join([lemmatizer.lemmatize(word) for word in text if word not in stop_words])\n",
    "    return text"
   ]
  },
  {
   "cell_type": "code",
   "execution_count": 9,
   "metadata": {},
   "outputs": [
    {
     "name": "stderr",
     "output_type": "stream",
     "text": [
      "100%|██████████| 400000/400000 [00:00<00:00, 2402277.24it/s]\n"
     ]
    }
   ],
   "source": [
    "test['Text'] = tqdm(test['Text'].apply(text_preprocess))"
   ]
  },
  {
   "cell_type": "code",
   "execution_count": 11,
   "metadata": {},
   "outputs": [
    {
     "name": "stderr",
     "output_type": "stream",
     "text": [
      "100%|██████████| 3600000/3600000 [39:28<00:00, 1519.64it/s] \n"
     ]
    }
   ],
   "source": [
    "tqdm.pandas()\n",
    "train['Text'] = train['Text'].progress_apply(text_preprocess)"
   ]
  },
  {
   "cell_type": "code",
   "execution_count": 13,
   "metadata": {},
   "outputs": [],
   "source": [
    "test.to_csv('test_preprocessed.csv', index=False, encoding='utf-8')"
   ]
  },
  {
   "cell_type": "code",
   "execution_count": 14,
   "metadata": {},
   "outputs": [],
   "source": [
    "train.to_csv('train_preprocessed.csv', index=False, encoding='utf-8')"
   ]
  },
  {
   "cell_type": "code",
   "execution_count": 60,
   "metadata": {},
   "outputs": [],
   "source": [
    "train = pd.read_csv('train_preprocessed.csv')\n",
    "test = pd.read_csv('test_preprocessed.csv')"
   ]
  },
  {
   "cell_type": "code",
   "execution_count": 61,
   "metadata": {},
   "outputs": [],
   "source": [
    "# Getting text and label\n",
    "train_text = train_sample['Text'].values\n",
    "train_label = train_sample['Label'].values\n",
    "\n",
    "test_text = test_sample['Text'].values\n",
    "test_label = test_sample['Label'].values"
   ]
  },
  {
   "cell_type": "code",
   "execution_count": 62,
   "metadata": {},
   "outputs": [],
   "source": [
    "# Managing labels\n",
    "le = LabelEncoder()\n",
    "train_label = le.fit_transform(train_label)\n",
    "test_label = le.fit_transform(test_label)\n",
    "\n",
    "train_label = to_categorical(train_label)\n",
    "test_label = to_categorical(test_label)"
   ]
  },
  {
   "cell_type": "code",
   "execution_count": 63,
   "metadata": {},
   "outputs": [
    {
     "data": {
      "text/plain": [
       "916"
      ]
     },
     "execution_count": 63,
     "metadata": {},
     "output_type": "execute_result"
    }
   ],
   "source": [
    "# Getting text max length\n",
    "max_len = max([len(i) for i in train_text])\n",
    "max_len"
   ]
  },
  {
   "cell_type": "code",
   "execution_count": 64,
   "metadata": {},
   "outputs": [
    {
     "data": {
      "text/plain": [
       "409855"
      ]
     },
     "execution_count": 64,
     "metadata": {},
     "output_type": "execute_result"
    }
   ],
   "source": [
    "# Indicating num_words due to very huge vocab_size\n",
    "max_words = 5000\n",
    "tokenizer = Tokenizer(num_words=max_words)\n",
    "\n",
    "tokenizer.fit_on_texts(train_text)\n",
    "\n",
    "vocab_size = len(tokenizer.word_index)\n",
    "\n",
    "vocab_size"
   ]
  },
  {
   "cell_type": "code",
   "execution_count": 65,
   "metadata": {},
   "outputs": [],
   "source": [
    "# Sequencing\n",
    "train_text = tokenizer.texts_to_sequences(train_text)\n",
    "test_text = tokenizer.texts_to_sequences(test_text)"
   ]
  },
  {
   "cell_type": "code",
   "execution_count": 66,
   "metadata": {},
   "outputs": [],
   "source": [
    "# Padding\n",
    "train_text = pad_sequences(train_text, maxlen=max_len)\n",
    "test_text = pad_sequences(test_text, maxlen=max_len)"
   ]
  },
  {
   "cell_type": "code",
   "execution_count": 85,
   "metadata": {},
   "outputs": [],
   "source": [
    "# Saving final version of data as numpy\n",
    "np.save('final_train_text.npy', train_text)\n",
    "np.save('final_train_labels.npy', train_label)\n",
    "np.save('final_test_text.npy', test_text)\n",
    "np.save('final_test_labels.npy', test_label)"
   ]
  },
  {
   "cell_type": "code",
   "execution_count": 86,
   "metadata": {},
   "outputs": [],
   "source": [
    "train_text_df = pd.DataFrame(train_text)\n",
    "train_label_df = pd.DataFrame(train_label)\n",
    "test_text_df = pd.DataFrame(test_text)\n",
    "test_label_df = pd.DataFrame(test_label)\n"
   ]
  },
  {
   "cell_type": "code",
   "execution_count": 87,
   "metadata": {},
   "outputs": [],
   "source": [
    "train_text_df.to_csv('final_train_text.csv', index=False)\n",
    "train_label_df.to_csv('final_train_label.csv', index=False)\n",
    "test_text_df.to_csv('final_test_text.csv', index=False)\n",
    "test_label_df.to_csv('final_test_label.csv', index=False)"
   ]
  },
  {
   "cell_type": "markdown",
   "metadata": {},
   "source": [
    "#### Model"
   ]
  },
  {
   "cell_type": "code",
   "execution_count": null,
   "metadata": {},
   "outputs": [
    {
     "name": "stderr",
     "output_type": "stream",
     "text": [
      "53709it [00:08, 4749.95it/s] "
     ]
    },
    {
     "name": "stdout",
     "output_type": "stream",
     "text": [
      "Error in word .: could not convert string to float: '.'\n"
     ]
    },
    {
     "name": "stderr",
     "output_type": "stream",
     "text": [
      "130355it [00:14, 10967.38it/s]"
     ]
    },
    {
     "name": "stdout",
     "output_type": "stream",
     "text": [
      "Error in word at: could not convert string to float: 'name@domain.com'\n"
     ]
    },
    {
     "name": "stderr",
     "output_type": "stream",
     "text": [
      "152842it [00:17, 11394.67it/s]"
     ]
    },
    {
     "name": "stdout",
     "output_type": "stream",
     "text": [
      "Error in word .: could not convert string to float: '.'\n"
     ]
    },
    {
     "name": "stderr",
     "output_type": "stream",
     "text": [
      "203197it [00:21, 12598.48it/s]"
     ]
    },
    {
     "name": "stdout",
     "output_type": "stream",
     "text": [
      "Error in word to: could not convert string to float: 'name@domain.com'\n"
     ]
    },
    {
     "name": "stderr",
     "output_type": "stream",
     "text": [
      "212309it [00:22, 13004.72it/s]"
     ]
    },
    {
     "name": "stdout",
     "output_type": "stream",
     "text": [
      "Error in word .: could not convert string to float: '.'\n"
     ]
    },
    {
     "name": "stderr",
     "output_type": "stream",
     "text": [
      "222678it [00:23, 12044.33it/s]"
     ]
    },
    {
     "name": "stdout",
     "output_type": "stream",
     "text": [
      "Error in word .: could not convert string to float: '.'\n"
     ]
    },
    {
     "name": "stderr",
     "output_type": "stream",
     "text": [
      "255781it [00:25, 12499.07it/s]"
     ]
    },
    {
     "name": "stdout",
     "output_type": "stream",
     "text": [
      "Error in word email: could not convert string to float: 'name@domain.com'\n"
     ]
    },
    {
     "name": "stderr",
     "output_type": "stream",
     "text": [
      "367704it [00:36, 11538.83it/s]"
     ]
    },
    {
     "name": "stdout",
     "output_type": "stream",
     "text": [
      "Error in word or: could not convert string to float: 'name@domain.com'\n"
     ]
    },
    {
     "name": "stderr",
     "output_type": "stream",
     "text": [
      "534663it [00:51, 12118.96it/s]"
     ]
    },
    {
     "name": "stdout",
     "output_type": "stream",
     "text": [
      "Error in word contact: could not convert string to float: 'name@domain.com'\n"
     ]
    },
    {
     "name": "stderr",
     "output_type": "stream",
     "text": [
      "719266it [01:08, 10875.44it/s]"
     ]
    },
    {
     "name": "stdout",
     "output_type": "stream",
     "text": [
      "Error in word Email: could not convert string to float: 'name@domain.com'\n"
     ]
    },
    {
     "name": "stderr",
     "output_type": "stream",
     "text": [
      "996517it [01:36, 11668.56it/s]"
     ]
    },
    {
     "name": "stdout",
     "output_type": "stream",
     "text": [
      "Error in word on: could not convert string to float: 'name@domain.com'\n"
     ]
    },
    {
     "name": "stderr",
     "output_type": "stream",
     "text": [
      "1125539it [01:48, 12641.21it/s]"
     ]
    },
    {
     "name": "stdout",
     "output_type": "stream",
     "text": [
      "Error in word At: could not convert string to float: 'Killerseats.com'\n"
     ]
    },
    {
     "name": "stderr",
     "output_type": "stream",
     "text": [
      "1149917it [01:50, 11197.92it/s]"
     ]
    },
    {
     "name": "stdout",
     "output_type": "stream",
     "text": [
      "Error in word by: could not convert string to float: 'name@domain.com'\n"
     ]
    },
    {
     "name": "stderr",
     "output_type": "stream",
     "text": [
      "1354026it [02:09, 12736.14it/s]"
     ]
    },
    {
     "name": "stdout",
     "output_type": "stream",
     "text": [
      "Error in word in: could not convert string to float: 'mylot.com'\n"
     ]
    },
    {
     "name": "stderr",
     "output_type": "stream",
     "text": [
      "1502342it [02:28, 12735.75it/s]"
     ]
    },
    {
     "name": "stdout",
     "output_type": "stream",
     "text": [
      "Error in word emailing: could not convert string to float: 'name@domain.com'\n"
     ]
    },
    {
     "name": "stderr",
     "output_type": "stream",
     "text": [
      "1535657it [02:31, 11872.93it/s]"
     ]
    },
    {
     "name": "stdout",
     "output_type": "stream",
     "text": [
      "Error in word Contact: could not convert string to float: 'name@domain.com'\n"
     ]
    },
    {
     "name": "stderr",
     "output_type": "stream",
     "text": [
      "1900553it [03:06, 11247.24it/s]"
     ]
    },
    {
     "name": "stdout",
     "output_type": "stream",
     "text": [
      "Error in word at: could not convert string to float: 'name@domain.com'\n"
     ]
    },
    {
     "name": "stderr",
     "output_type": "stream",
     "text": [
      "1922068it [03:08, 11186.49it/s]"
     ]
    },
    {
     "name": "stdout",
     "output_type": "stream",
     "text": [
      "Error in word •: could not convert string to float: 'name@domain.com'\n"
     ]
    },
    {
     "name": "stderr",
     "output_type": "stream",
     "text": [
      "2059999it [03:23, 11189.72it/s]"
     ]
    },
    {
     "name": "stdout",
     "output_type": "stream",
     "text": [
      "Error in word at: could not convert string to float: 'Amazon.com'\n"
     ]
    },
    {
     "name": "stderr",
     "output_type": "stream",
     "text": [
      "2166932it [03:35, 11643.34it/s]"
     ]
    },
    {
     "name": "stdout",
     "output_type": "stream",
     "text": [
      "Error in word is: could not convert string to float: 'name@domain.com'\n"
     ]
    },
    {
     "name": "stderr",
     "output_type": "stream",
     "text": [
      "2196017it [03:38, 10045.21it/s]\n"
     ]
    }
   ],
   "source": [
    "# Loading GloVe pretrained model\n",
    "embedding_dim = 300\n",
    "embedding_index = {}\n",
    "with open('glove.840B.300d.txt', encoding='utf-8') as file:\n",
    "    for line in tqdm(file):\n",
    "        values = line.split() # Splitting the word key from the coeff values\n",
    "        word = values[0]\n",
    "        try:\n",
    "            coeff = np.asarray(values[1:], dtype='float32')\n",
    "            embedding_index[word] = coeff\n",
    "        except ValueError as e:\n",
    "            print(f'Error in word {word}: {e}')"
   ]
  },
  {
   "cell_type": "code",
   "execution_count": 44,
   "metadata": {},
   "outputs": [
    {
     "name": "stderr",
     "output_type": "stream",
     "text": [
      "100%|██████████| 409855/409855 [00:07<00:00, 57286.50it/s] \n"
     ]
    }
   ],
   "source": [
    "embedding_matrix = np.zeros((max_words, embedding_dim)) # Embedding matrix to be put in the embedding layer\n",
    "for word, i in tqdm(tokenizer.word_index.items()):\n",
    "    if i < max_words: # if word index is within range\n",
    "        embedding_vector = embedding_index.get(word) # Get the word parameters from GloVe\n",
    "        if embedding_vector is not None:\n",
    "            embedding_matrix[i] = embedding_vector # embedding parameters of specific word in our corpus with those from the pretrained embeddings"
   ]
  },
  {
   "cell_type": "code",
   "execution_count": 49,
   "metadata": {},
   "outputs": [],
   "source": [
    "# Saving embedding matrix\n",
    "np.save('embedding_matrix.npy', embedding_matrix)\n"
   ]
  },
  {
   "cell_type": "code",
   "execution_count": 40,
   "metadata": {},
   "outputs": [],
   "source": [
    "#Loading embedding matrix\n",
    "embedding_matrix = np.load('embedding_matrix.npy')"
   ]
  },
  {
   "cell_type": "code",
   "execution_count": 67,
   "metadata": {},
   "outputs": [
    {
     "name": "stdout",
     "output_type": "stream",
     "text": [
      "Train Sample Texts Shape: (1000, 916)\n",
      "Train Sample Labels Shape: (1000, 2)\n",
      "Test Sample Texts Shape: (1000, 916)\n",
      "Test Sample Labels Shape: (1000, 2)\n"
     ]
    }
   ],
   "source": [
    "# Define the sample size\n",
    "sample_size = 1000  # Adjust the sample size as needed\n",
    "\n",
    "# Take samples\n",
    "train_sample_indices = np.random.choice(len(train_text), sample_size, replace=False)\n",
    "test_sample_indices = np.random.choice(len(test_text), sample_size, replace=False)\n",
    "\n",
    "train_sample_texts = train_text[train_sample_indices]\n",
    "train_sample_labels = train_label[train_sample_indices]\n",
    "\n",
    "test_sample_texts = test_text[test_sample_indices]\n",
    "test_sample_labels = test_label[test_sample_indices]\n",
    "\n",
    "# Verify the shapes of the samples\n",
    "print(f'Train Sample Texts Shape: {train_sample_texts.shape}')\n",
    "print(f'Train Sample Labels Shape: {train_sample_labels.shape}')\n",
    "print(f'Test Sample Texts Shape: {test_sample_texts.shape}')\n",
    "print(f'Test Sample Labels Shape: {test_sample_labels.shape}')\n"
   ]
  },
  {
   "cell_type": "code",
   "execution_count": 88,
   "metadata": {},
   "outputs": [],
   "source": [
    "train_text = pd.read_csv('final_train_text.csv')\n",
    "train_label = pd.read_csv('final_train_label.csv')\n",
    "test_text = pd.read_csv('final_test_text.csv')\n",
    "test_label = pd.read_csv('final_test_label.csv')\n",
    "# Convert back to NumPy arrays\n",
    "train_text = train_text.values\n",
    "train_label = train_label.values\n",
    "test_text = test_text.values\n",
    "test_label = test_label.values\n"
   ]
  },
  {
   "cell_type": "code",
   "execution_count": 89,
   "metadata": {},
   "outputs": [
    {
     "name": "stdout",
     "output_type": "stream",
     "text": [
      "Train Sample Texts Shape: (1000, 916)\n",
      "Train Sample Labels Shape: (1000, 2)\n",
      "Test Sample Texts Shape: (1000, 916)\n",
      "Test Sample Labels Shape: (1000, 2)\n"
     ]
    }
   ],
   "source": [
    "# Define the sample size\n",
    "sample_size = 1000  # Adjust the sample size as needed\n",
    "\n",
    "# Take samples\n",
    "train_sample_indices = np.random.choice(len(train_text), sample_size, replace=False)\n",
    "test_sample_indices = np.random.choice(len(test_text), sample_size, replace=False)\n",
    "\n",
    "train_sample_texts = train_text[train_sample_indices]\n",
    "train_sample_labels = train_label[train_sample_indices]\n",
    "\n",
    "test_sample_texts = test_text[test_sample_indices]\n",
    "test_sample_labels = test_label[test_sample_indices]\n",
    "\n",
    "# Verify the shapes of the samples\n",
    "print(f'Train Sample Texts Shape: {train_sample_texts.shape}')\n",
    "print(f'Train Sample Labels Shape: {train_sample_labels.shape}')\n",
    "print(f'Test Sample Texts Shape: {test_sample_texts.shape}')\n",
    "print(f'Test Sample Labels Shape: {test_sample_labels.shape}')"
   ]
  },
  {
   "cell_type": "code",
   "execution_count": 68,
   "metadata": {},
   "outputs": [
    {
     "name": "stdout",
     "output_type": "stream",
     "text": [
      "Model: \"sequential_3\"\n",
      "_________________________________________________________________\n",
      " Layer (type)                Output Shape              Param #   \n",
      "=================================================================\n",
      " embedding_3 (Embedding)     (None, 916, 300)          1500000   \n",
      "                                                                 \n",
      " lstm_4 (LSTM)               (None, 916, 64)           93440     \n",
      "                                                                 \n",
      " dropout_4 (Dropout)         (None, 916, 64)           0         \n",
      "                                                                 \n",
      " lstm_5 (LSTM)               (None, 64)                33024     \n",
      "                                                                 \n",
      " dense_4 (Dense)             (None, 64)                4160      \n",
      "                                                                 \n",
      " dropout_5 (Dropout)         (None, 64)                0         \n",
      "                                                                 \n",
      " dense_5 (Dense)             (None, 2)                 130       \n",
      "                                                                 \n",
      "=================================================================\n",
      "Total params: 1,630,754\n",
      "Trainable params: 130,754\n",
      "Non-trainable params: 1,500,000\n",
      "_________________________________________________________________\n"
     ]
    }
   ],
   "source": [
    "embedding_dim = 300\n",
    "model = Sequential()\n",
    "model.add(Embedding(max_words, embedding_dim, input_length=max_len, weights=[embedding_matrix], trainable=False))\n",
    "model.add(LSTM(64, return_sequences=True, dropout=.2, recurrent_dropout=.2))\n",
    "model.add(Dropout(.2))\n",
    "model.add(LSTM(64))\n",
    "model.add(Dense(64, activation='relu'))\n",
    "model.add(Dropout(.2))\n",
    "model.add(Dense(len(le.classes_), activation='softmax'))\n",
    "model.summary()"
   ]
  },
  {
   "cell_type": "code",
   "execution_count": 69,
   "metadata": {},
   "outputs": [],
   "source": [
    "## Adding checkpoints and learning rate optimizers\n",
    "model.compile(loss='categorical_crossentropy', optimizer='adam', metrics=['accuracy'])\n",
    "lr = ReduceLROnPlateau(monitor='val_accuracy', min_lr=.00001, factor=.3)\n",
    "checkpoint = ModelCheckpoint('best_model.h5', monitor='val_accuracy', verbose=1, save_best_only=True, mode='max')"
   ]
  },
  {
   "cell_type": "code",
   "execution_count": 70,
   "metadata": {},
   "outputs": [
    {
     "name": "stdout",
     "output_type": "stream",
     "text": [
      "Epoch 1/5\n",
      "7/7 [==============================] - ETA: 0s - loss: 0.6796 - accuracy: 0.5825 \n",
      "Epoch 1: val_accuracy improved from -inf to 0.71000, saving model to best_model.h5\n",
      "7/7 [==============================] - 136s 18s/step - loss: 0.6796 - accuracy: 0.5825 - val_loss: 0.6327 - val_accuracy: 0.7100 - lr: 0.0010\n",
      "Epoch 2/5\n",
      "7/7 [==============================] - ETA: 0s - loss: 0.6079 - accuracy: 0.7075 \n",
      "Epoch 2: val_accuracy improved from 0.71000 to 0.77000, saving model to best_model.h5\n",
      "7/7 [==============================] - 120s 17s/step - loss: 0.6079 - accuracy: 0.7075 - val_loss: 0.5309 - val_accuracy: 0.7700 - lr: 0.0010\n",
      "Epoch 3/5\n",
      "7/7 [==============================] - ETA: 0s - loss: 0.5393 - accuracy: 0.7337 \n",
      "Epoch 3: val_accuracy improved from 0.77000 to 0.80000, saving model to best_model.h5\n",
      "7/7 [==============================] - 137s 20s/step - loss: 0.5393 - accuracy: 0.7337 - val_loss: 0.4904 - val_accuracy: 0.8000 - lr: 0.0010\n",
      "Epoch 4/5\n",
      "7/7 [==============================] - ETA: 0s - loss: 0.5147 - accuracy: 0.7487 \n",
      "Epoch 4: val_accuracy did not improve from 0.80000\n",
      "7/7 [==============================] - 125s 18s/step - loss: 0.5147 - accuracy: 0.7487 - val_loss: 0.5683 - val_accuracy: 0.7250 - lr: 0.0010\n",
      "Epoch 5/5\n",
      "7/7 [==============================] - ETA: 0s - loss: 0.5260 - accuracy: 0.7437 \n",
      "Epoch 5: val_accuracy did not improve from 0.80000\n",
      "7/7 [==============================] - 119s 17s/step - loss: 0.5260 - accuracy: 0.7437 - val_loss: 0.5297 - val_accuracy: 0.7250 - lr: 0.0010\n"
     ]
    }
   ],
   "source": [
    "history = model.fit(train_sample_texts, train_sample_labels, epochs=5, batch_size=128,validation_split=.2, callbacks=[lr, checkpoint])"
   ]
  },
  {
   "cell_type": "markdown",
   "metadata": {},
   "source": [
    "#### Model evaluation"
   ]
  },
  {
   "cell_type": "code",
   "execution_count": 71,
   "metadata": {},
   "outputs": [],
   "source": [
    "# Saving history\n",
    "with open('training_history-sample1.pkl', 'wb') as file:\n",
    "    pickle.dump(history.history, file)"
   ]
  },
  {
   "cell_type": "code",
   "execution_count": 80,
   "metadata": {},
   "outputs": [],
   "source": [
    "# Loading best model\n",
    "best_model = models.load_model('best_model-sample1.h5')"
   ]
  },
  {
   "cell_type": "code",
   "execution_count": 81,
   "metadata": {},
   "outputs": [
    {
     "name": "stdout",
     "output_type": "stream",
     "text": [
      "32/32 [==============================] - 18s 523ms/step - loss: 0.5132 - accuracy: 0.7550\n",
      "Test accuracy: 75.50%\n",
      "Test loss: 0.5132\n"
     ]
    }
   ],
   "source": [
    "loss, accuracy = best_model.evaluate(test_sample_texts, test_sample_labels)\n",
    "print(f'Test accuracy: {accuracy * 100:.2f}%')\n",
    "print(f'Test loss: {loss:.4f}')"
   ]
  },
  {
   "cell_type": "code",
   "execution_count": 82,
   "metadata": {},
   "outputs": [
    {
     "data": {
      "text/plain": [
       "<matplotlib.legend.Legend at 0x1b8a07ab310>"
      ]
     },
     "execution_count": 82,
     "metadata": {},
     "output_type": "execute_result"
    },
    {
     "data": {
      "image/png": "[encoded data removed]",
      "text/plain": [
       "<Figure size 1200x400 with 1 Axes>"
      ]
     },
     "metadata": {},
     "output_type": "display_data"
    },
    {
     "data": {
      "image/png": "[encoded data removed]",
      "text/plain": [
       "<Figure size 1200x400 with 1 Axes>"
      ]
     },
     "metadata": {},
     "output_type": "display_data"
    }
   ],
   "source": [
    "# Depicting history\n",
    "# Accuracy\n",
    "plt.figure(figsize=(12,4))\n",
    "plt.subplot(1,2,1)\n",
    "plt.plot(history.history['accuracy'], label='Training accuracy')\n",
    "plt.plot(history.history['val_accuracy'], label='Validation accuracy')\n",
    "plt.title('Model Accuracy')\n",
    "plt.xlabel('Epoch')\n",
    "plt.ylabel('Accuracy')\n",
    "plt.legend(loc='upper left')\n",
    "\n",
    "# Loss\n",
    "plt.figure(figsize=(12,4))\n",
    "plt.subplot(1,2,2)\n",
    "plt.plot(history.history['loss'], label='Training loss')\n",
    "plt.plot(history.history['val_loss'], label='Validation loss')\n",
    "plt.title('Model loss')\n",
    "plt.xlabel('Epoch')\n",
    "plt.ylabel('Accuracy')\n",
    "plt.legend(loc='upper left')\n"
   ]
  },
  {
   "cell_type": "code",
   "execution_count": 83,
   "metadata": {},
   "outputs": [
    {
     "name": "stdout",
     "output_type": "stream",
     "text": [
      "32/32 [==============================] - 19s 533ms/step\n"
     ]
    },
    {
     "data": {
      "image/png": "[encoded data removed]",
      "text/plain": [
       "<Figure size 1000x800 with 2 Axes>"
      ]
     },
     "metadata": {},
     "output_type": "display_data"
    }
   ],
   "source": [
    "# Getting label predictions\n",
    "pred = model.predict(test_sample_texts)\n",
    "pred_label = np.argmax(pred, axis=1)\n",
    "true_label = np.argmax(test_sample_labels, axis=1)\n",
    "\n",
    "cm = confusion_matrix(true_label, pred_label)\n",
    "\n",
    "plt.figure(figsize=(10,8))\n",
    "sns.heatmap(cm, annot=True, fmt='d', cmap='Blues')\n",
    "plt.title('Confusion Matrix')\n",
    "plt.xlabel('Predicted')\n",
    "plt.ylabel('True')\n",
    "plt.show()"
   ]
  },
  {
   "cell_type": "code",
   "execution_count": 84,
   "metadata": {},
   "outputs": [
    {
     "name": "stdout",
     "output_type": "stream",
     "text": [
      "              precision    recall  f1-score   support\n",
      "\n",
      "           0       0.63      0.95      0.76       469\n",
      "           1       0.91      0.51      0.65       531\n",
      "\n",
      "    accuracy                           0.71      1000\n",
      "   macro avg       0.77      0.73      0.70      1000\n",
      "weighted avg       0.78      0.71      0.70      1000\n",
      "\n"
     ]
    }
   ],
   "source": [
    "# Classification report\n",
    "cr = classification_report(true_label, pred_label)\n",
    "print(cr)"
   ]
  },
  {
   "cell_type": "markdown",
   "metadata": {},
   "source": [
    "#### Editing model"
   ]
  },
  {
   "cell_type": "code",
   "execution_count": null,
   "metadata": {},
   "outputs": [],
   "source": [
    "# Increasing model depth, # epochs and increasing data samples"
   ]
  },
  {
   "cell_type": "code",
   "execution_count": null,
   "metadata": {},
   "outputs": [
    {
     "name": "stdout",
     "output_type": "stream",
     "text": [
      "Train Sample Texts Shape: (72000, 916)\n",
      "Train Sample Labels Shape: (72000, 2)\n",
      "Test Sample Texts Shape: (8000, 916)\n",
      "Test Sample Labels Shape: (8000, 2)\n",
      "Total training data size: 360000\n"
     ]
    }
   ],
   "source": [
    "# Define the sample size\n",
    "sample_percentage = .2  # Adjust the sample size as needed\n",
    "\n",
    "train_sample_size = int(sample_percentage * len(train_text))\n",
    "test_sample_size = int(sample_percentage * len(test_text))\n",
    "\n",
    "# Take samples\n",
    "train_sample_indices = np.random.choice(len(train_text), train_sample_size, replace=False)\n",
    "test_sample_indices = np.random.choice(len(test_text), test_sample_size, replace=False)\n",
    "\n",
    "train_sample_texts = train_text[train_sample_indices]\n",
    "train_sample_labels = train_label[train_sample_indices]\n",
    "\n",
    "test_sample_texts = test_text[test_sample_indices]\n",
    "test_sample_labels = test_label[test_sample_indices]\n",
    "\n",
    "# Verify the shapes of the samples\n",
    "print(f'Train Sample Texts Shape: {train_sample_texts.shape}')\n",
    "print(f'Train Sample Labels Shape: {train_sample_labels.shape}')\n",
    "print(f'Test Sample Texts Shape: {test_sample_texts.shape}')\n",
    "print(f'Test Sample Labels Shape: {test_sample_labels.shape}')\n",
    "print(f'Total training data size: {len(train_text)}')\n"
   ]
  },
  {
   "cell_type": "code",
   "execution_count": null,
   "metadata": {},
   "outputs": [
    {
     "name": "stderr",
     "output_type": "stream",
     "text": [
      "WARNING:tensorflow:Layer lstm will not use cuDNN kernels since it doesn't meet the criteria. It will use a generic GPU kernel as fallback when running on GPU.\n"
     ]
    },
    {
     "name": "stdout",
     "output_type": "stream",
     "text": [
      "Model: \"sequential_1\"\n",
      "_________________________________________________________________\n",
      " Layer (type)                Output Shape              Param #   \n",
      "=================================================================\n",
      " embedding (Embedding)       (None, 916, 300)          1500000   \n",
      "                                                                 \n",
      " lstm (LSTM)                 (None, 916, 128)          219648    \n",
      "                                                                 \n",
      " dropout (Dropout)           (None, 916, 128)          0         \n",
      "                                                                 \n",
      " lstm_1 (LSTM)               (None, 128)               131584    \n",
      "                                                                 \n",
      " dense (Dense)               (None, 128)               16512     \n",
      "                                                                 \n",
      " dropout_1 (Dropout)         (None, 128)               0         \n",
      "                                                                 \n",
      " dense_1 (Dense)             (None, 2)                 258       \n",
      "                                                                 \n",
      "=================================================================\n",
      "Total params: 1868002 (7.13 MB)\n",
      "Trainable params: 368002 (1.40 MB)\n",
      "Non-trainable params: 1500000 (5.72 MB)\n",
      "_________________________________________________________________\n"
     ]
    }
   ],
   "source": [
    "embedding_dim = 300\n",
    "max_words = 5000\n",
    "max_len = 916\n",
    "model = Sequential()\n",
    "model.add(Embedding(max_words, embedding_dim, input_length=max_len, weights=[embedding_matrix], trainable=False))\n",
    "model.add(LSTM(128, return_sequences=True, dropout=.2, recurrent_dropout=.2))\n",
    "model.add(Dropout(.2))\n",
    "model.add(LSTM(128))\n",
    "model.add(Dense(128, activation='relu'))\n",
    "model.add(Dropout(.2))\n",
    "model.add(Dense(2, activation='softmax'))\n",
    "model.summary()"
   ]
  },
  {
   "cell_type": "code",
   "execution_count": null,
   "metadata": {},
   "outputs": [],
   "source": [
    "## Adding checkpoints and learning rate optimizers\n",
    "model.compile(loss='categorical_crossentropy', optimizer='adam', metrics=['accuracy'])\n",
    "lr = ReduceLROnPlateau(monitor='val_accuracy', min_lr=.00001, factor=.3)\n",
    "checkpoint = ModelCheckpoint('best_model-sample2.h5', monitor='val_accuracy', verbose=1, save_best_only=True, mode='max')"
   ]
  },
  {
   "cell_type": "code",
   "execution_count": null,
   "metadata": {},
   "outputs": [
    {
     "name": "stdout",
     "output_type": "stream",
     "text": [
      "Epoch 1/10\n",
      "450/450 [==============================] - ETA: 0s - loss: 0.3615 - accuracy: 0.8405\n",
      "Epoch 1: val_accuracy improved from -inf to 0.88167, saving model to best_model-sample2.h5\n",
      "450/450 [==============================] - 713s 2s/step - loss: 0.3615 - accuracy: 0.8405 - val_loss: 0.2911 - val_accuracy: 0.8817 - lr: 0.0010\n",
      "Epoch 2/10\n",
      "450/450 [==============================] - ETA: 0s - loss: 0.2821 - accuracy: 0.8829\n",
      "Epoch 2: val_accuracy improved from 0.88167 to 0.89188, saving model to best_model-sample2.h5\n",
      "450/450 [==============================] - 713s 2s/step - loss: 0.2821 - accuracy: 0.8829 - val_loss: 0.2683 - val_accuracy: 0.8919 - lr: 0.0010\n",
      "Epoch 3/10\n",
      "450/450 [==============================] - ETA: 0s - loss: 0.2564 - accuracy: 0.8956\n",
      "Epoch 3: val_accuracy improved from 0.89188 to 0.89819, saving model to best_model-sample2.h5\n",
      "450/450 [==============================] - 712s 2s/step - loss: 0.2564 - accuracy: 0.8956 - val_loss: 0.2492 - val_accuracy: 0.8982 - lr: 0.0010\n",
      "Epoch 4/10\n",
      "450/450 [==============================] - ETA: 0s - loss: 0.2342 - accuracy: 0.9041\n",
      "Epoch 4: val_accuracy did not improve from 0.89819\n",
      "450/450 [==============================] - 709s 2s/step - loss: 0.2342 - accuracy: 0.9041 - val_loss: 0.2576 - val_accuracy: 0.8955 - lr: 0.0010\n",
      "Epoch 5/10\n",
      "450/450 [==============================] - ETA: 0s - loss: 0.2203 - accuracy: 0.9107\n",
      "Epoch 5: val_accuracy improved from 0.89819 to 0.90632, saving model to best_model-sample2.h5\n",
      "450/450 [==============================] - 709s 2s/step - loss: 0.2203 - accuracy: 0.9107 - val_loss: 0.2401 - val_accuracy: 0.9063 - lr: 0.0010\n",
      "Epoch 6/10\n",
      "450/450 [==============================] - ETA: 0s - loss: 0.2044 - accuracy: 0.9178\n",
      "Epoch 6: val_accuracy improved from 0.90632 to 0.90778, saving model to best_model-sample2.h5\n",
      "450/450 [==============================] - 707s 2s/step - loss: 0.2044 - accuracy: 0.9178 - val_loss: 0.2426 - val_accuracy: 0.9078 - lr: 0.0010\n",
      "Epoch 7/10\n",
      "450/450 [==============================] - ETA: 0s - loss: 0.1898 - accuracy: 0.9243\n",
      "Epoch 7: val_accuracy did not improve from 0.90778\n",
      "450/450 [==============================] - 708s 2s/step - loss: 0.1898 - accuracy: 0.9243 - val_loss: 0.2499 - val_accuracy: 0.9077 - lr: 0.0010\n",
      "Epoch 8/10\n",
      "450/450 [==============================] - ETA: 0s - loss: 0.1751 - accuracy: 0.9305\n",
      "Epoch 8: val_accuracy did not improve from 0.90778\n",
      "450/450 [==============================] - 697s 2s/step - loss: 0.1751 - accuracy: 0.9305 - val_loss: 0.2399 - val_accuracy: 0.9058 - lr: 0.0010\n",
      "Epoch 9/10\n",
      "450/450 [==============================] - ETA: 0s - loss: 0.1628 - accuracy: 0.9361\n",
      "Epoch 9: val_accuracy did not improve from 0.90778\n",
      "450/450 [==============================] - 706s 2s/step - loss: 0.1628 - accuracy: 0.9361 - val_loss: 0.2483 - val_accuracy: 0.9003 - lr: 0.0010\n",
      "Epoch 10/10\n",
      "450/450 [==============================] - ETA: 0s - loss: 0.1526 - accuracy: 0.9387\n",
      "Epoch 10: val_accuracy did not improve from 0.90778\n",
      "450/450 [==============================] - 707s 2s/step - loss: 0.1526 - accuracy: 0.9387 - val_loss: 0.2597 - val_accuracy: 0.9045 - lr: 0.0010\n"
     ]
    }
   ],
   "source": [
    "history = model.fit(train_sample_texts, train_sample_labels, epochs=10, batch_size=128,validation_split=.2, callbacks=[lr, checkpoint])"
   ]
  },
  {
   "cell_type": "markdown",
   "metadata": {},
   "source": [
    "#### Model evaluation"
   ]
  },
  {
   "cell_type": "code",
   "execution_count": null,
   "metadata": {},
   "outputs": [],
   "source": [
    "# Saving history\n",
    "with open('training_history-sample2.pkl', 'wb') as file:\n",
    "    pickle.dump(history.history, file)"
   ]
  },
  {
   "cell_type": "code",
   "execution_count": null,
   "metadata": {},
   "outputs": [
    {
     "name": "stderr",
     "output_type": "stream",
     "text": [
      "WARNING:tensorflow:Layer lstm will not use cuDNN kernels since it doesn't meet the criteria. It will use a generic GPU kernel as fallback when running on GPU.\n"
     ]
    }
   ],
   "source": [
    "# Loading best model\n",
    "best_model = models.load_model('best_model-sample2.h5')"
   ]
  },
  {
   "cell_type": "code",
   "execution_count": null,
   "metadata": {},
   "outputs": [
    {
     "name": "stdout",
     "output_type": "stream",
     "text": [
      "250/250 [==============================] - 66s 260ms/step - loss: 0.2279 - accuracy: 0.9074\n",
      "Test accuracy: 90.74%\n",
      "Test loss: 0.2279\n"
     ]
    }
   ],
   "source": [
    "loss, accuracy = best_model.evaluate(test_sample_texts, test_sample_labels)\n",
    "print(f'Test accuracy: {accuracy * 100:.2f}%')\n",
    "print(f'Test loss: {loss:.4f}')"
   ]
  },
  {
   "cell_type": "code",
   "execution_count": null,
   "metadata": {},
   "outputs": [
    {
     "data": {
      "text/plain": [
       "<matplotlib.legend.Legend at 0x7e5552e4e530>"
      ]
     },
     "metadata": {},
     "output_type": "display_data"
    },
    {
     "data": {
      "image/png": "[encoded data removed]",
      "text/plain": [
       "<Figure size 1200x400 with 1 Axes>"
      ]
     },
     "metadata": {},
     "output_type": "display_data"
    },
    {
     "data": {
      "image/png": "[encoded data removed]",
      "text/plain": [
       "<Figure size 1200x400 with 1 Axes>"
      ]
     },
     "metadata": {},
     "output_type": "display_data"
    }
   ],
   "source": [
    "# Depicting history\n",
    "# Accuracy\n",
    "plt.figure(figsize=(12,4))\n",
    "plt.subplot(1,2,1)\n",
    "plt.plot(history.history['accuracy'], label='Training accuracy')\n",
    "plt.plot(history.history['val_accuracy'], label='Validation accuracy')\n",
    "plt.title('Model Accuracy')\n",
    "plt.xlabel('Epoch')\n",
    "plt.ylabel('Accuracy')\n",
    "plt.legend(loc='upper left')\n",
    "\n",
    "# Loss\n",
    "plt.figure(figsize=(12,4))\n",
    "plt.subplot(1,2,2)\n",
    "plt.plot(history.history['loss'], label='Training loss')\n",
    "plt.plot(history.history['val_loss'], label='Validation loss')\n",
    "plt.title('Model loss')\n",
    "plt.xlabel('Epoch')\n",
    "plt.ylabel('Accuracy')\n",
    "plt.legend(loc='upper left')\n"
   ]
  },
  {
   "cell_type": "code",
   "execution_count": null,
   "metadata": {},
   "outputs": [
    {
     "name": "stdout",
     "output_type": "stream",
     "text": [
      "250/250 [==============================] - 65s 259ms/step\n"
     ]
    },
    {
     "data": {
      "image/png": "[encoded data removed]",
      "text/plain": [
       "<Figure size 1000x800 with 2 Axes>"
      ]
     },
     "metadata": {},
     "output_type": "display_data"
    }
   ],
   "source": [
    "# Getting label predictions\n",
    "pred = model.predict(test_sample_texts)\n",
    "pred_label = np.argmax(pred, axis=1)\n",
    "true_label = np.argmax(test_sample_labels, axis=1)\n",
    "\n",
    "cm = confusion_matrix(true_label, pred_label)\n",
    "\n",
    "plt.figure(figsize=(10,8))\n",
    "sns.heatmap(cm, annot=True, fmt='d', cmap='Blues')\n",
    "plt.title('Confusion Matrix')\n",
    "plt.xlabel('Predicted')\n",
    "plt.ylabel('True')\n",
    "plt.show()"
   ]
  },
  {
   "cell_type": "code",
   "execution_count": null,
   "metadata": {},
   "outputs": [
    {
     "name": "stdout",
     "output_type": "stream",
     "text": [
      "              precision    recall  f1-score   support\n",
      "\n",
      "           0       0.93      0.87      0.90      3984\n",
      "           1       0.88      0.93      0.91      4016\n",
      "\n",
      "    accuracy                           0.90      8000\n",
      "   macro avg       0.91      0.90      0.90      8000\n",
      "weighted avg       0.91      0.90      0.90      8000\n",
      "\n"
     ]
    }
   ],
   "source": [
    "# Classification report\n",
    "cr = classification_report(true_label, pred_label)\n",
    "print(cr)"
   ]
  },
  {
   "cell_type": "markdown",
   "metadata": {},
   "source": [
    "Due to limitations of free use of GPU on Google collab, running the model on a larger sample of our data coudn't be acheived"
   ]
  },
  {
   "cell_type": "markdown",
   "metadata": {},
   "source": []
  }
 ],
 "metadata": {
  "kernelspec": {
   "display_name": "Python 3",
   "language": "python",
   "name": "python3"
  },
  "language_info": {
   "codemirror_mode": {
    "name": "ipython",
    "version": 3
   },
   "file_extension": ".py",
   "mimetype": "text/x-python",
   "name": "python",
   "nbconvert_exporter": "python",
   "pygments_lexer": "ipython3",
   "version": "3.11.3"
  }
 },
 "nbformat": 4,
 "nbformat_minor": 2
}
